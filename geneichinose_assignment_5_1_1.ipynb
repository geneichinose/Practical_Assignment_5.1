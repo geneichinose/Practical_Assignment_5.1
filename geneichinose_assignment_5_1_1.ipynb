{
 "cells": [
  {
   "cell_type": "markdown",
   "metadata": {},
   "source": [
    "### Will a Customer Accept the Coupon?\n",
    "\n",
    "**Context**\n",
    "\n",
    "Imagine driving through town and a coupon is delivered to your cell phone for a restaraunt near where you are driving. Would you accept that coupon and take a short detour to the restaraunt? Would you accept the coupon but use it on a sunbsequent trip? Would you ignore the coupon entirely? What if the coupon was for a bar instead of a restaraunt? What about a coffee house? Would you accept a bar coupon with a minor passenger in the car? What about if it was just you and your partner in the car? Would weather impact the rate of acceptance? What about the time of day?\n",
    "\n",
    "Obviously, proximity to the business is a factor on whether the coupon is delivered to the driver or not, but what are the factors that determine whether a driver accepts the coupon once it is delivered to them? How would you determine whether a driver is likely to accept a coupon?\n",
    "\n",
    "**Overview**\n",
    "\n",
    "The goal of this project is to use what you know about visualizations and probability distributions to distinguish between customers who accepted a driving coupon versus those that did not.\n",
    "\n",
    "**Data**\n",
    "\n",
    "This data comes to us from the UCI Machine Learning repository and was collected via a survey on Amazon Mechanical Turk. The survey describes different driving scenarios including the destination, current time, weather, passenger, etc., and then ask the person whether he will accept the coupon if he is the driver. Answers that the user will drive there ‘right away’ or ‘later before the coupon expires’ are labeled as ‘Y = 1’ and answers ‘no, I do not want the coupon’ are labeled as ‘Y = 0’.  There are five different types of coupons -- less expensive restaurants (under \\\\$20), coffee houses, carry out & take away, bar, and more expensive restaurants (\\\\$20 - \\\\$50). "
   ]
  },
  {
   "cell_type": "markdown",
   "metadata": {},
   "source": [
    "**Deliverables**\n",
    "\n",
    "Your final product should be a brief report that highlights the differences between customers who did and did not accept the coupons.  To explore the data you will utilize your knowledge of plotting, statistical summaries, and visualization using Python. You will publish your findings in a public facing github repository as your first portfolio piece. \n",
    "\n",
    "\n",
    "\n"
   ]
  },
  {
   "cell_type": "markdown",
   "metadata": {},
   "source": [
    "### Data Description\n",
    "\n",
    "The attributes of this data set include:\n",
    "1. User attributes\n",
    "    -  Gender: male, female\n",
    "    -  Age: below 21, 21 to 25, 26 to 30, etc.\n",
    "    -  Marital Status: single, married partner, unmarried partner, or widowed\n",
    "    -  Number of children: 0, 1, or more than 1\n",
    "    -  Education: high school, bachelors degree, associates degree, or graduate degree\n",
    "    -  Occupation: architecture & engineering, business & financial, etc.\n",
    "    -  Annual income: less than \\\\$12500, \\\\$12500 - \\\\$24999, \\\\$25000 - \\\\$37499, etc.\n",
    "    -  Number of times that he/she goes to a bar: 0, less than 1, 1 to 3, 4 to 8 or greater than 8\n",
    "    -  Number of times that he/she buys takeaway food: 0, less than 1, 1 to 3, 4 to 8 or greater\n",
    "    than 8\n",
    "    -  Number of times that he/she goes to a coffee house: 0, less than 1, 1 to 3, 4 to 8 or\n",
    "    greater than 8\n",
    "    -  Number of times that he/she eats at a restaurant with average expense less than \\\\$20 per\n",
    "    person: 0, less than 1, 1 to 3, 4 to 8 or greater than 8\n",
    "    -  Number of times that he/she goes to a bar: 0, less than 1, 1 to 3, 4 to 8 or greater than 8\n",
    "    \n",
    "\n",
    "2. Contextual attributes\n",
    "    - Driving destination: home, work, or no urgent destination\n",
    "    - Location of user, coupon and destination: we provide a map to show the geographical\n",
    "    location of the user, destination, and the venue, and we mark the distance between each\n",
    "    two places with time of driving. The user can see whether the venue is in the same\n",
    "    direction as the destination.\n",
    "    - Weather: sunny, rainy, or snowy\n",
    "    - Temperature: 30F, 55F, or 80F\n",
    "    - Time: 10AM, 2PM, or 6PM\n",
    "    - Passenger: alone, partner, kid(s), or friend(s)\n",
    "\n",
    "\n",
    "3. Coupon attributes\n",
    "    - time before it expires: 2 hours or one day"
   ]
  },
  {
   "cell_type": "code",
   "execution_count": 2,
   "metadata": {},
   "outputs": [],
   "source": [
    "import matplotlib.pyplot as plt\n",
    "import seaborn as sns\n",
    "import pandas as pd\n",
    "import numpy as np"
   ]
  },
  {
   "cell_type": "markdown",
   "metadata": {},
   "source": [
    "### Problems\n",
    "\n",
    "Use the prompts below to get started with your data analysis.  \n",
    "\n",
    "1. Read in the `coupons.csv` file.\n",
    "\n",
    "\n"
   ]
  },
  {
   "cell_type": "code",
   "execution_count": 41,
   "metadata": {},
   "outputs": [],
   "source": [
    "data = pd.read_csv('data/coupons.csv')"
   ]
  },
  {
   "cell_type": "code",
   "execution_count": 42,
   "metadata": {},
   "outputs": [
    {
     "data": {
      "text/html": [
       "<div>\n",
       "<style scoped>\n",
       "    .dataframe tbody tr th:only-of-type {\n",
       "        vertical-align: middle;\n",
       "    }\n",
       "\n",
       "    .dataframe tbody tr th {\n",
       "        vertical-align: top;\n",
       "    }\n",
       "\n",
       "    .dataframe thead th {\n",
       "        text-align: right;\n",
       "    }\n",
       "</style>\n",
       "<table border=\"1\" class=\"dataframe\">\n",
       "  <thead>\n",
       "    <tr style=\"text-align: right;\">\n",
       "      <th></th>\n",
       "      <th>destination</th>\n",
       "      <th>passanger</th>\n",
       "      <th>weather</th>\n",
       "      <th>temperature</th>\n",
       "      <th>time</th>\n",
       "      <th>coupon</th>\n",
       "      <th>expiration</th>\n",
       "      <th>gender</th>\n",
       "      <th>age</th>\n",
       "      <th>maritalStatus</th>\n",
       "      <th>...</th>\n",
       "      <th>CoffeeHouse</th>\n",
       "      <th>CarryAway</th>\n",
       "      <th>RestaurantLessThan20</th>\n",
       "      <th>Restaurant20To50</th>\n",
       "      <th>toCoupon_GEQ5min</th>\n",
       "      <th>toCoupon_GEQ15min</th>\n",
       "      <th>toCoupon_GEQ25min</th>\n",
       "      <th>direction_same</th>\n",
       "      <th>direction_opp</th>\n",
       "      <th>Y</th>\n",
       "    </tr>\n",
       "  </thead>\n",
       "  <tbody>\n",
       "    <tr>\n",
       "      <th>10535</th>\n",
       "      <td>No Urgent Place</td>\n",
       "      <td>Alone</td>\n",
       "      <td>Sunny</td>\n",
       "      <td>80</td>\n",
       "      <td>10PM</td>\n",
       "      <td>Restaurant(&lt;20)</td>\n",
       "      <td>1d</td>\n",
       "      <td>Female</td>\n",
       "      <td>50plus</td>\n",
       "      <td>Married partner</td>\n",
       "      <td>...</td>\n",
       "      <td>never</td>\n",
       "      <td>4~8</td>\n",
       "      <td>less1</td>\n",
       "      <td>1~3</td>\n",
       "      <td>1</td>\n",
       "      <td>0</td>\n",
       "      <td>0</td>\n",
       "      <td>0</td>\n",
       "      <td>1</td>\n",
       "      <td>1</td>\n",
       "    </tr>\n",
       "    <tr>\n",
       "      <th>4312</th>\n",
       "      <td>Home</td>\n",
       "      <td>Alone</td>\n",
       "      <td>Sunny</td>\n",
       "      <td>80</td>\n",
       "      <td>6PM</td>\n",
       "      <td>Coffee House</td>\n",
       "      <td>1d</td>\n",
       "      <td>Female</td>\n",
       "      <td>46</td>\n",
       "      <td>Single</td>\n",
       "      <td>...</td>\n",
       "      <td>never</td>\n",
       "      <td>4~8</td>\n",
       "      <td>1~3</td>\n",
       "      <td>1~3</td>\n",
       "      <td>1</td>\n",
       "      <td>0</td>\n",
       "      <td>0</td>\n",
       "      <td>1</td>\n",
       "      <td>0</td>\n",
       "      <td>0</td>\n",
       "    </tr>\n",
       "    <tr>\n",
       "      <th>11393</th>\n",
       "      <td>No Urgent Place</td>\n",
       "      <td>Alone</td>\n",
       "      <td>Rainy</td>\n",
       "      <td>55</td>\n",
       "      <td>10AM</td>\n",
       "      <td>Bar</td>\n",
       "      <td>1d</td>\n",
       "      <td>Male</td>\n",
       "      <td>50plus</td>\n",
       "      <td>Married partner</td>\n",
       "      <td>...</td>\n",
       "      <td>less1</td>\n",
       "      <td>less1</td>\n",
       "      <td>less1</td>\n",
       "      <td>less1</td>\n",
       "      <td>1</td>\n",
       "      <td>1</td>\n",
       "      <td>0</td>\n",
       "      <td>0</td>\n",
       "      <td>1</td>\n",
       "      <td>1</td>\n",
       "    </tr>\n",
       "    <tr>\n",
       "      <th>3453</th>\n",
       "      <td>No Urgent Place</td>\n",
       "      <td>Friend(s)</td>\n",
       "      <td>Sunny</td>\n",
       "      <td>80</td>\n",
       "      <td>2PM</td>\n",
       "      <td>Coffee House</td>\n",
       "      <td>2h</td>\n",
       "      <td>Female</td>\n",
       "      <td>below21</td>\n",
       "      <td>Single</td>\n",
       "      <td>...</td>\n",
       "      <td>1~3</td>\n",
       "      <td>4~8</td>\n",
       "      <td>4~8</td>\n",
       "      <td>1~3</td>\n",
       "      <td>1</td>\n",
       "      <td>1</td>\n",
       "      <td>0</td>\n",
       "      <td>0</td>\n",
       "      <td>1</td>\n",
       "      <td>1</td>\n",
       "    </tr>\n",
       "    <tr>\n",
       "      <th>375</th>\n",
       "      <td>No Urgent Place</td>\n",
       "      <td>Kid(s)</td>\n",
       "      <td>Sunny</td>\n",
       "      <td>80</td>\n",
       "      <td>2PM</td>\n",
       "      <td>Restaurant(&lt;20)</td>\n",
       "      <td>1d</td>\n",
       "      <td>Female</td>\n",
       "      <td>31</td>\n",
       "      <td>Married partner</td>\n",
       "      <td>...</td>\n",
       "      <td>less1</td>\n",
       "      <td>4~8</td>\n",
       "      <td>4~8</td>\n",
       "      <td>less1</td>\n",
       "      <td>1</td>\n",
       "      <td>0</td>\n",
       "      <td>0</td>\n",
       "      <td>0</td>\n",
       "      <td>1</td>\n",
       "      <td>1</td>\n",
       "    </tr>\n",
       "  </tbody>\n",
       "</table>\n",
       "<p>5 rows × 26 columns</p>\n",
       "</div>"
      ],
      "text/plain": [
       "           destination  passanger weather  temperature  time           coupon  \\\n",
       "10535  No Urgent Place      Alone   Sunny           80  10PM  Restaurant(<20)   \n",
       "4312              Home      Alone   Sunny           80   6PM     Coffee House   \n",
       "11393  No Urgent Place      Alone   Rainy           55  10AM              Bar   \n",
       "3453   No Urgent Place  Friend(s)   Sunny           80   2PM     Coffee House   \n",
       "375    No Urgent Place     Kid(s)   Sunny           80   2PM  Restaurant(<20)   \n",
       "\n",
       "      expiration  gender      age    maritalStatus  ...  CoffeeHouse  \\\n",
       "10535         1d  Female   50plus  Married partner  ...        never   \n",
       "4312          1d  Female       46           Single  ...        never   \n",
       "11393         1d    Male   50plus  Married partner  ...        less1   \n",
       "3453          2h  Female  below21           Single  ...          1~3   \n",
       "375           1d  Female       31  Married partner  ...        less1   \n",
       "\n",
       "      CarryAway RestaurantLessThan20 Restaurant20To50 toCoupon_GEQ5min  \\\n",
       "10535       4~8                less1              1~3                1   \n",
       "4312        4~8                  1~3              1~3                1   \n",
       "11393     less1                less1            less1                1   \n",
       "3453        4~8                  4~8              1~3                1   \n",
       "375         4~8                  4~8            less1                1   \n",
       "\n",
       "      toCoupon_GEQ15min toCoupon_GEQ25min direction_same direction_opp  Y  \n",
       "10535                 0                 0              0             1  1  \n",
       "4312                  0                 0              1             0  0  \n",
       "11393                 1                 0              0             1  1  \n",
       "3453                  1                 0              0             1  1  \n",
       "375                   0                 0              0             1  1  \n",
       "\n",
       "[5 rows x 26 columns]"
      ]
     },
     "execution_count": 42,
     "metadata": {},
     "output_type": "execute_result"
    }
   ],
   "source": [
    "data.sample(5)"
   ]
  },
  {
   "cell_type": "markdown",
   "metadata": {},
   "source": [
    "2. Investigate the dataset for missing or problematic data."
   ]
  },
  {
   "cell_type": "code",
   "execution_count": 43,
   "metadata": {},
   "outputs": [
    {
     "data": {
      "text/plain": [
       "destination                 0\n",
       "passanger                   0\n",
       "weather                     0\n",
       "temperature                 0\n",
       "time                        0\n",
       "coupon                      0\n",
       "expiration                  0\n",
       "gender                      0\n",
       "age                         0\n",
       "maritalStatus               0\n",
       "has_children                0\n",
       "education                   0\n",
       "occupation                  0\n",
       "income                      0\n",
       "car                     12576\n",
       "Bar                       107\n",
       "CoffeeHouse               217\n",
       "CarryAway                 151\n",
       "RestaurantLessThan20      130\n",
       "Restaurant20To50          189\n",
       "toCoupon_GEQ5min            0\n",
       "toCoupon_GEQ15min           0\n",
       "toCoupon_GEQ25min           0\n",
       "direction_same              0\n",
       "direction_opp               0\n",
       "Y                           0\n",
       "dtype: int64"
      ]
     },
     "execution_count": 43,
     "metadata": {},
     "output_type": "execute_result"
    }
   ],
   "source": [
    "# check the number of nan's \n",
    "data.isnull().sum()"
   ]
  },
  {
   "cell_type": "code",
   "execution_count": 44,
   "metadata": {},
   "outputs": [
    {
     "name": "stdout",
     "output_type": "stream",
     "text": [
      "car: [nan 'Scooter and motorcycle' 'crossover' 'Mazda5' 'do not drive'\n",
      " 'Car that is too old to install Onstar :D']\n",
      "Bar: ['never' 'less1' '1~3' 'gt8' nan '4~8']\n",
      "CoffeeHouse: ['never' 'less1' '4~8' '1~3' 'gt8' nan]\n",
      "CarrayAway: [nan '4~8' '1~3' 'gt8' 'less1' 'never']\n",
      "RestaurantLessThan20: ['4~8' '1~3' 'less1' 'gt8' nan 'never']\n",
      "Restaurant20to50: ['1~3' 'less1' 'never' 'gt8' '4~8' nan]\n"
     ]
    }
   ],
   "source": [
    "# what are the unique entries in these columns\n",
    "\n",
    "print(\"car: \" + np.array2string(data.car.unique()) )\n",
    "print(\"Bar: \" + np.array2string(data.Bar.unique()) )\n",
    "print(\"CoffeeHouse: \" + np.array2string(data.CoffeeHouse.unique()) )\n",
    "print(\"CarrayAway: \" + np.array2string(data.CarryAway.unique()) )\n",
    "print(\"RestaurantLessThan20: \" + np.array2string(data.RestaurantLessThan20.unique()) )\n",
    "print(\"Restaurant20to50: \" + np.array2string(data.Restaurant20To50.unique()) )"
   ]
  },
  {
   "cell_type": "code",
   "execution_count": 45,
   "metadata": {},
   "outputs": [
    {
     "name": "stdout",
     "output_type": "stream",
     "text": [
      "Percent of missing \"car\" records is 99.15%\n",
      "Percent of missing \"Bar\" records is 0.84%\n",
      "Percent of missing \"CoffeeHouse\" records is 1.71%\n",
      "Percent of missing \"CarryAway\" records is 1.19%\n",
      "Percent of missing \"RestaurantLessThan20\" records is 1.02%\n",
      "Percent of missing \"Restaurant20To50\" records is 1.49%\n"
     ]
    }
   ],
   "source": [
    "# what percent is nan's\n",
    "\n",
    "print('Percent of missing \"car\" records is %.2f%%' %((data['car'].isnull().sum()/data.shape[0])*100))\n",
    "print('Percent of missing \"Bar\" records is %.2f%%' %((data['Bar'].isnull().sum()/data.shape[0])*100))\n",
    "print('Percent of missing \"CoffeeHouse\" records is %.2f%%' %((data['CoffeeHouse'].isnull().sum()/data.shape[0])*100))\n",
    "print('Percent of missing \"CarryAway\" records is %.2f%%' %((data['CarryAway'].isnull().sum()/data.shape[0])*100))\n",
    "print('Percent of missing \"RestaurantLessThan20\" records is %.2f%%' %((data['RestaurantLessThan20'].isnull().sum()/data.shape[0])*100))\n",
    "print('Percent of missing \"Restaurant20To50\" records is %.2f%%' %((data['Restaurant20To50'].isnull().sum()/data.shape[0])*100))"
   ]
  },
  {
   "cell_type": "markdown",
   "metadata": {},
   "source": [
    "3. Decide what to do about your missing data -- drop, replace, other..."
   ]
  },
  {
   "cell_type": "code",
   "execution_count": 46,
   "metadata": {},
   "outputs": [
    {
     "name": "stdout",
     "output_type": "stream",
     "text": [
      "<class 'pandas.core.frame.DataFrame'>\n",
      "RangeIndex: 12684 entries, 0 to 12683\n",
      "Data columns (total 25 columns):\n",
      " #   Column                Non-Null Count  Dtype \n",
      "---  ------                --------------  ----- \n",
      " 0   destination           12684 non-null  object\n",
      " 1   passanger             12684 non-null  object\n",
      " 2   weather               12684 non-null  object\n",
      " 3   temperature           12684 non-null  int64 \n",
      " 4   time                  12684 non-null  object\n",
      " 5   coupon                12684 non-null  object\n",
      " 6   expiration            12684 non-null  object\n",
      " 7   gender                12684 non-null  object\n",
      " 8   age                   12684 non-null  object\n",
      " 9   maritalStatus         12684 non-null  object\n",
      " 10  has_children          12684 non-null  int64 \n",
      " 11  education             12684 non-null  object\n",
      " 12  occupation            12684 non-null  object\n",
      " 13  income                12684 non-null  object\n",
      " 14  Bar                   12577 non-null  object\n",
      " 15  CoffeeHouse           12467 non-null  object\n",
      " 16  CarryAway             12533 non-null  object\n",
      " 17  RestaurantLessThan20  12554 non-null  object\n",
      " 18  Restaurant20To50      12495 non-null  object\n",
      " 19  toCoupon_GEQ5min      12684 non-null  int64 \n",
      " 20  toCoupon_GEQ15min     12684 non-null  int64 \n",
      " 21  toCoupon_GEQ25min     12684 non-null  int64 \n",
      " 22  direction_same        12684 non-null  int64 \n",
      " 23  direction_opp         12684 non-null  int64 \n",
      " 24  Y                     12684 non-null  int64 \n",
      "dtypes: int64(8), object(17)\n",
      "memory usage: 2.4+ MB\n"
     ]
    }
   ],
   "source": [
    "# drop car since > 99% missing\n",
    "data.drop(columns=['car'], inplace=True )\n",
    "data.info()"
   ]
  },
  {
   "cell_type": "code",
   "execution_count": 47,
   "metadata": {},
   "outputs": [],
   "source": [
    "# convert the rest of nan's to never under the assumption that no response was equivanlent \n",
    "\n",
    "data[['Bar', 'CoffeeHouse', 'CarryAway', 'RestaurantLessThan20', 'Restaurant20To50']] = data[['Bar', 'CoffeeHouse', 'CarryAway', 'RestaurantLessThan20', 'Restaurant20To50']].fillna('never')"
   ]
  },
  {
   "cell_type": "code",
   "execution_count": 51,
   "metadata": {},
   "outputs": [
    {
     "data": {
      "text/plain": [
       "destination             0\n",
       "passanger               0\n",
       "weather                 0\n",
       "temperature             0\n",
       "time                    0\n",
       "coupon                  0\n",
       "expiration              0\n",
       "gender                  0\n",
       "age                     0\n",
       "maritalStatus           0\n",
       "has_children            0\n",
       "education               0\n",
       "occupation              0\n",
       "income                  0\n",
       "Bar                     0\n",
       "CoffeeHouse             0\n",
       "CarryAway               0\n",
       "RestaurantLessThan20    0\n",
       "Restaurant20To50        0\n",
       "toCoupon_GEQ5min        0\n",
       "toCoupon_GEQ15min       0\n",
       "toCoupon_GEQ25min       0\n",
       "direction_same          0\n",
       "direction_opp           0\n",
       "Y                       0\n",
       "dtype: int64"
      ]
     },
     "execution_count": 51,
     "metadata": {},
     "output_type": "execute_result"
    }
   ],
   "source": [
    "# now check for any nans remaining?\n",
    "\n",
    "data.isnull().sum()"
   ]
  },
  {
   "cell_type": "code",
   "execution_count": 52,
   "metadata": {},
   "outputs": [
    {
     "name": "stdout",
     "output_type": "stream",
     "text": [
      "Bar: ['never' 'less1' '1~3' 'gt8' '4~8']\n",
      "CoffeeHouse: ['never' 'less1' '4~8' '1~3' 'gt8']\n",
      "CarrayAway: ['never' '4~8' '1~3' 'gt8' 'less1']\n",
      "RestaurantLessThan20: ['4~8' '1~3' 'less1' 'gt8' 'never']\n",
      "Restaurant20to50: ['1~3' 'less1' 'never' 'gt8' '4~8']\n"
     ]
    }
   ],
   "source": [
    "# now check for any nans remaining?\n",
    "\n",
    "print(\"Bar: \" + np.array2string(data.Bar.unique()) )\n",
    "print(\"CoffeeHouse: \" + np.array2string(data.CoffeeHouse.unique()) )\n",
    "print(\"CarrayAway: \" + np.array2string(data.CarryAway.unique()) )\n",
    "print(\"RestaurantLessThan20: \" + np.array2string(data.RestaurantLessThan20.unique()) )\n",
    "print(\"Restaurant20to50: \" + np.array2string(data.Restaurant20To50.unique()) )"
   ]
  },
  {
   "cell_type": "markdown",
   "metadata": {},
   "source": [
    "4. What proportion of the total observations chose to accept the coupon? \n",
    "\n"
   ]
  },
  {
   "cell_type": "code",
   "execution_count": 76,
   "metadata": {},
   "outputs": [
    {
     "name": "stdout",
     "output_type": "stream",
     "text": [
      "0    0.431567\n",
      "1    0.568433\n",
      "Name: TookCoupon, dtype: float64\n"
     ]
    }
   ],
   "source": [
    "data = data.rename(columns={\"Y\": \"TookCoupon\" })\n",
    "# data.info()\n",
    "print( data['TookCoupon'].value_counts().sort_index()/data['TookCoupon'].count() )"
   ]
  },
  {
   "cell_type": "code",
   "execution_count": null,
   "metadata": {},
   "outputs": [],
   "source": []
  },
  {
   "cell_type": "markdown",
   "metadata": {},
   "source": [
    "5. Use a bar plot to visualize the `coupon` column."
   ]
  },
  {
   "cell_type": "code",
   "execution_count": 78,
   "metadata": {},
   "outputs": [
    {
     "data": {
      "text/plain": [
       "Text(0, 0.5, 'Counts')"
      ]
     },
     "execution_count": 78,
     "metadata": {},
     "output_type": "execute_result"
    },
    {
     "data": {
      "image/png": "[encoded data removed]",
      "text/plain": [
       "<Figure size 432x288 with 1 Axes>"
      ]
     },
     "metadata": {
      "needs_background": "light"
     },
     "output_type": "display_data"
    }
   ],
   "source": [
    "ax = data['TookCoupon'].value_counts().sort_index().plot(kind='bar')\n",
    "ax.set_xlabel('Took Coupon (0=No, 1=Yes)')\n",
    "ax.set_ylabel('Counts')"
   ]
  },
  {
   "cell_type": "markdown",
   "metadata": {},
   "source": [
    "6. Use a histogram to visualize the temperature column."
   ]
  },
  {
   "cell_type": "code",
   "execution_count": 74,
   "metadata": {},
   "outputs": [
    {
     "data": {
      "text/plain": [
       "Text(0, 0.5, 'Counts')"
      ]
     },
     "execution_count": 74,
     "metadata": {},
     "output_type": "execute_result"
    },
    {
     "data": {
      "image/png": "[encoded data removed]",
      "text/plain": [
       "<Figure size 432x288 with 1 Axes>"
      ]
     },
     "metadata": {
      "needs_background": "light"
     },
     "output_type": "display_data"
    }
   ],
   "source": [
    "ax = data['temperature'].value_counts().sort_index().plot(kind='bar')\n",
    "ax.set_xlabel('Temperature (F)')\n",
    "ax.set_ylabel('Counts')"
   ]
  },
  {
   "cell_type": "markdown",
   "metadata": {},
   "source": [
    "**Investigating the Bar Coupons**\n",
    "\n",
    "Now, we will lead you through an exploration of just the bar related coupons.  \n",
    "\n",
    "1. Create a new `DataFrame` that contains just the bar coupons.\n"
   ]
  },
  {
   "cell_type": "code",
   "execution_count": 137,
   "metadata": {},
   "outputs": [
    {
     "name": "stdout",
     "output_type": "stream",
     "text": [
      "['never', 'lt1', '1~3', 'gt8', '4~8']\n",
      "Categories (5, object): ['never' < 'lt1' < '1~3' < '4~8' < 'gt8']\n"
     ]
    }
   ],
   "source": [
    "### Clean the data Bar column categorical data\n",
    "###\n",
    "data.loc[ data[\"Bar\"] == \"less1\", \"Bar\" ] = \"lt1\"\n",
    "data['Bar'] = pd.Categorical(\n",
    "    data['Bar'], \n",
    "    categories=['never', 'lt1', '1~3', '4~8', 'gt8'], \n",
    "    ordered=True)\n",
    "print(data.Bar.unique())"
   ]
  },
  {
   "cell_type": "code",
   "execution_count": 139,
   "metadata": {},
   "outputs": [
    {
     "name": "stdout",
     "output_type": "stream",
     "text": [
      "['21 - 25', '46 - 49', '26 - 30', '31 - 35', '41 - 45', '50 - 99', '36 - 40', '0 - 20']\n",
      "Categories (8, object): ['0 - 20' < '21 - 25' < '26 - 30' < '31 - 35' < '36 - 40' < '41 - 45' < '46 - 49' < '50 - 99']\n"
     ]
    }
   ],
   "source": [
    "### clean the data age column categorical data\n",
    "###\n",
    "data.loc[ data[\"age\"] == \"below21\", \"age\" ] = \"0 - 20\"  \n",
    "data.loc[ data[\"age\"] == \"21\", \"age\" ] = \"21 - 25\"\n",
    "data.loc[ data[\"age\"] == \"26\", \"age\" ] = \"26 - 30\"\n",
    "data.loc[ data[\"age\"] == \"31\", \"age\" ] = \"31 - 35\"\n",
    "data.loc[ data[\"age\"] == \"36\", \"age\" ] = \"36 - 40\"\n",
    "data.loc[ data[\"age\"] == \"41\", \"age\" ] = \"41 - 45\"\n",
    "data.loc[ data[\"age\"] == \"46\", \"age\" ] = \"46 - 49\"\n",
    "data.loc[ data[\"age\"] == \"50plus\", \"age\" ] = \"50 - 99\"\n",
    "\n",
    "data['age'] = pd.Categorical(\n",
    "    data['age'], \n",
    "    categories=['0 - 20', '21 - 25', '26 - 30', '31 - 35', '36 - 40', '41 - 45', '46 - 49', '50 - 99'], \n",
    "    ordered=True)\n",
    "print(data.age.unique())"
   ]
  },
  {
   "cell_type": "code",
   "execution_count": 262,
   "metadata": {},
   "outputs": [],
   "source": [
    "#### Select only the participants that received the coupon='Bar' + age and Bar columns\n",
    "####\n",
    "df_Bar = data.query(\"coupon == 'Bar'\")[['TookCoupon']]\n",
    "# df_Bar.sample(10)"
   ]
  },
  {
   "cell_type": "markdown",
   "metadata": {},
   "source": [
    "2. What proportion of bar coupons were accepted?\n"
   ]
  },
  {
   "cell_type": "code",
   "execution_count": 263,
   "metadata": {},
   "outputs": [
    {
     "name": "stdout",
     "output_type": "stream",
     "text": [
      "0    1190\n",
      "1     827\n",
      "Name: TookCoupon, dtype: int64 2017\n",
      "0    0.589985\n",
      "1    0.410015\n",
      "Name: TookCoupon, dtype: float64\n"
     ]
    }
   ],
   "source": [
    "print( df_Bar['TookCoupon'].value_counts(), len(df_Bar) )\n",
    "print( df_Bar['TookCoupon'].value_counts() / len(df_Bar) )"
   ]
  },
  {
   "cell_type": "markdown",
   "metadata": {},
   "source": [
    "Out of the 2017 participants who were offered the coupon=Bar, 41% accepted the coupon and 59% did not"
   ]
  },
  {
   "cell_type": "markdown",
   "metadata": {},
   "source": [
    "3. Compare the acceptance rate between those who went to a bar 3 or fewer times a month to those who went more.\n"
   ]
  },
  {
   "cell_type": "code",
   "execution_count": 275,
   "metadata": {},
   "outputs": [
    {
     "name": "stdout",
     "output_type": "stream",
     "text": [
      "TookCoupon\n",
      "1             510\n",
      "0             457\n",
      "dtype: int64 967\n",
      "TookCoupon\n",
      "1             0.527404\n",
      "0             0.472596\n",
      "dtype: float64\n"
     ]
    }
   ],
   "source": [
    "df_Bar = data.query(\"coupon == 'Bar'\")[['TookCoupon', 'Bar']]\n",
    "# print(df_Bar.Bar.unique())\n",
    "df_tmp = df_Bar.query(\"Bar == 'lt1' or Bar == '1~3' \")[['TookCoupon']]\n",
    "print(df_tmp.value_counts(), len(df_tmp))\n",
    "print(df_tmp.value_counts() / len(df_tmp))"
   ]
  },
  {
   "cell_type": "code",
   "execution_count": 276,
   "metadata": {},
   "outputs": [
    {
     "name": "stdout",
     "output_type": "stream",
     "text": [
      "TookCoupon\n",
      "1             153\n",
      "0              46\n",
      "dtype: int64 199\n",
      "TookCoupon\n",
      "1             0.768844\n",
      "0             0.231156\n",
      "dtype: float64\n"
     ]
    }
   ],
   "source": [
    "df_Bar = data.query(\"coupon == 'Bar'\")[['TookCoupon', 'Bar']]\n",
    "df_tmp = df_Bar.query(\"Bar == '4~8' or Bar == 'gt8' \")[['TookCoupon']]\n",
    "print(df_tmp.value_counts(), len(df_tmp))\n",
    "print(df_tmp.value_counts() / len(df_tmp))"
   ]
  },
  {
   "cell_type": "markdown",
   "metadata": {},
   "source": [
    "In the group of 967 that went to the bar 3 or fewer times a month accepted the Bar coupon at a rate of 52.7%\n",
    "In the group of 199 that went to the bar more than 3 times a month accepted the Bar coupon at a rate of 76.9%"
   ]
  },
  {
   "cell_type": "markdown",
   "metadata": {},
   "source": [
    "4. Compare the acceptance rate between drivers who go to a bar more than once a month and are over the age of 25 to the all others.  Is there a difference?\n"
   ]
  },
  {
   "cell_type": "code",
   "execution_count": 277,
   "metadata": {},
   "outputs": [
    {
     "name": "stdout",
     "output_type": "stream",
     "text": [
      "1    292\n",
      "0    128\n",
      "Name: TookCoupon, dtype: int64 420\n",
      "1    0.695238\n",
      "0    0.304762\n",
      "Name: TookCoupon, dtype: float64\n"
     ]
    }
   ],
   "source": [
    "df_Bar = data.query(\"coupon == 'Bar'\")[['TookCoupon', 'Bar', 'age']]\n",
    "# df_Bar.age.unique()\n",
    "\n",
    "df_tmp = df_Bar.loc[ df_Bar['Bar'].ge('1~3') ]\n",
    "df_tmp = df_tmp.loc[ df_tmp['age'].ge('26 - 30')]\n",
    "\n",
    "# print(df_tmp.Bar.unique())\n",
    "# print(df_tmp.age.unique())\n",
    "\n",
    "print(df_tmp['TookCoupon'].value_counts(), len(df_tmp))\n",
    "print(df_tmp['TookCoupon'].value_counts() / len(df_tmp))"
   ]
  },
  {
   "cell_type": "code",
   "execution_count": 278,
   "metadata": {},
   "outputs": [
    {
     "name": "stdout",
     "output_type": "stream",
     "text": [
      "0    199\n",
      "1    129\n",
      "Name: TookCoupon, dtype: int64 328\n",
      "0    0.606707\n",
      "1    0.393293\n",
      "Name: TookCoupon, dtype: float64\n"
     ]
    }
   ],
   "source": [
    "df_Bar = data.query(\"coupon == 'Bar'\")[['TookCoupon', 'Bar', 'age']]\n",
    "df_tmp = df_Bar.loc[ df_Bar['Bar'].lt('1~3') ]\n",
    "df_tmp = df_tmp.loc[ df_tmp['age'].lt('26 - 30')]\n",
    "\n",
    "# print(df_tmp.Bar.unique())\n",
    "# print(df_tmp.age.unique())\n",
    "\n",
    "print(df_tmp['TookCoupon'].value_counts(), len(df_tmp))\n",
    "print(df_tmp['TookCoupon'].value_counts() / len(df_tmp))"
   ]
  },
  {
   "cell_type": "markdown",
   "metadata": {},
   "source": [
    "The acceptance rate between drivers who go to a bar more than once a month and are over the age of 25 is 69.5%\n",
    "The acceptance rate of all others is 39.3%. \n",
    "There is a 30.2% increase for those who frequent bars more than once a month and are over the age of 25 compared to all others. "
   ]
  },
  {
   "cell_type": "markdown",
   "metadata": {},
   "source": [
    "5. Use the same process to compare the acceptance rate between drivers who go to bars more than once a month and had passengers that were not a kid and had occupations other than farming, fishing, or forestry. \n"
   ]
  },
  {
   "cell_type": "code",
   "execution_count": 247,
   "metadata": {},
   "outputs": [
    {
     "name": "stdout",
     "output_type": "stream",
     "text": [
      "1    393\n",
      "0    158\n",
      "Name: TookCoupon, dtype: int64 551\n",
      "1    0.713249\n",
      "0    0.286751\n",
      "Name: TookCoupon, dtype: float64\n"
     ]
    }
   ],
   "source": [
    "df_Bar = data.query(\"coupon == 'Bar'\")[['TookCoupon', 'Bar', 'passanger', 'occupation']]\n",
    "# df_Bar.sample(10)\n",
    "# print( df_Bar.Bar.unique() )\n",
    "# print( df_Bar.passanger.unique() ) \n",
    "# print( df_Bar.occupation.unique() )\n",
    "df_tmp = df_Bar.loc[ df_Bar['Bar'].ge('1~3') ]\n",
    "df_tmp = df_tmp.loc[ df_tmp['passanger'].ne('Kid(s)')]\n",
    "df_tmp = df_tmp.loc[ df_tmp['occupation'].ne('Farming Fishing & Forestry')]\n",
    "\n",
    "# print(df_tmp.Bar.unique())\n",
    "# print(df_tmp.passanger.unique())\n",
    "# print(df_tmp.occupation.unique())\n",
    "\n",
    "print(df_tmp['TookCoupon'].value_counts(), len(df_tmp))\n",
    "print(df_tmp['TookCoupon'].value_counts() / len(df_tmp))"
   ]
  },
  {
   "cell_type": "markdown",
   "metadata": {},
   "source": [
    "The acceptance rate between drivers who go to a bar month than once a month, had one passanger not kids, and occupations not (farming, fishing, forestry) is 71.3%\n",
    "This is a 2% higher rate than the previous above rate. "
   ]
  },
  {
   "cell_type": "markdown",
   "metadata": {},
   "source": [
    "6. Compare the acceptance rates between those drivers who:\n",
    "\n",
    "- go to bars more than once a month, had passengers that were not a kid, and were not widowed *OR*\n",
    "- go to bars more than once a month and are under the age of 30 *OR*\n",
    "- go to cheap restaurants more than 4 times a month and income is less than 50K. \n",
    "\n"
   ]
  },
  {
   "cell_type": "code",
   "execution_count": 248,
   "metadata": {},
   "outputs": [
    {
     "name": "stdout",
     "output_type": "stream",
     "text": [
      "1    393\n",
      "0    158\n",
      "Name: TookCoupon, dtype: int64 551\n",
      "1    0.713249\n",
      "0    0.286751\n",
      "Name: TookCoupon, dtype: float64\n"
     ]
    }
   ],
   "source": [
    "df_Bar = data.query(\"coupon == 'Bar'\")[['TookCoupon', 'Bar', 'passanger', 'maritalStatus']]\n",
    "df_tmp = df_Bar.loc[ df_Bar['Bar'].ge('1~3') ]\n",
    "df_tmp = df_tmp.loc[ df_tmp['passanger'].ne('Kid(s)')]\n",
    "df_tmp = df_tmp.loc[ df_tmp['maritalStatus'].ne('Widowed')]\n",
    "\n",
    "# print(df_tmp.Bar.unique())\n",
    "# print(df_tmp.passanger.unique())\n",
    "# print(df_tmp.maritalStatus.unique())\n",
    "\n",
    "print(df_tmp['TookCoupon'].value_counts(), len(df_tmp))\n",
    "print(df_tmp['TookCoupon'].value_counts() / len(df_tmp))"
   ]
  },
  {
   "cell_type": "markdown",
   "metadata": {},
   "source": [
    "The acceptance rate for drivers who go to bars more than once a month, had passengers that were not a kid, and were not widowed is 71.3%. This is the same rate as above in question #6. "
   ]
  },
  {
   "cell_type": "raw",
   "metadata": {},
   "source": [
    "# 7.  Based on these observations, what do you hypothesize about drivers who accepted the bar coupons?"
   ]
  },
  {
   "cell_type": "markdown",
   "metadata": {},
   "source": [
    "Based on these observations, I hypothesize that drivers who accepted the bar coupons are more likely to visit bars more than once a month, dont have kids, over the age of 25. "
   ]
  },
  {
   "cell_type": "markdown",
   "metadata": {},
   "source": [
    "### Independent Investigation\n",
    "\n",
    "Using the bar coupon example as motivation, you are to explore one of the other coupon groups and try to determine the characteristics of passengers who accept the coupons.  "
   ]
  },
  {
   "cell_type": "code",
   "execution_count": 279,
   "metadata": {},
   "outputs": [
    {
     "data": {
      "text/plain": [
       "<seaborn.axisgrid.FacetGrid at 0x7facc0d007c0>"
      ]
     },
     "execution_count": 279,
     "metadata": {},
     "output_type": "execute_result"
    },
    {
     "data": {
      "image/png": "[encoded data removed]",
      "text/plain": [
       "<Figure size 1022.88x360 with 1 Axes>"
      ]
     },
     "metadata": {
      "needs_background": "light"
     },
     "output_type": "display_data"
    }
   ],
   "source": [
    "## rename and order the categorical data\n",
    "##\n",
    "data['time'] = pd.Categorical(\n",
    "    data['time'], \n",
    "    categories=[\"7AM\", \"10AM\", \"2PM\", \"6PM\", \"10PM\"], \n",
    "    ordered=True)\n",
    "\n",
    "data.loc[ data[\"coupon\"] == \"Coffee House\", \"coupon\" ]           = \"Coffee House\"\n",
    "data.loc[ data[\"coupon\"] == \"Restaurant(<20)\", \"coupon\" ]        = \"Restaurant <20\"\n",
    "data.loc[ data[\"coupon\"] == \"Carry out & Take away\", \"coupon\" ]  = \"Carry out\"\n",
    "data.loc[ data[\"coupon\"] == \"Bar\", \"coupon\" ]                    = \"Bar\"\n",
    "data.loc[ data[\"coupon\"] == \"Restaurant(20-50)\", \"coupon\" ]      = \"Restaurant 20-50\"\n",
    "data['coupon'] = pd.Categorical(\n",
    "    data['coupon'], \n",
    "    categories=[\"Coffee House\", \"Carry out\", \"Bar\", \"Restaurant <20\", \"Restaurant 20-50\"], \n",
    "    ordered=True)\n",
    "\n",
    "data.loc[ data[\"income\"] == \"Less than $12500\", \"income\" ] = \"0 - 12500\"\n",
    "data.loc[ data[\"income\"] == \"$12500 - $24999\", \"income\" ] = \"12500 - 24999\"\n",
    "data.loc[ data[\"income\"] == \"$25000 - $37499\", \"income\" ] = \"25000 - 37499\"\n",
    "data.loc[ data[\"income\"] == \"$37500 - $49999\", \"income\" ] = \"37500 - 49999\"\n",
    "data.loc[ data[\"income\"] == \"$50000 - $62499\", \"income\" ] = \"50000 - 62499\"\n",
    "data.loc[ data[\"income\"] == \"$62500 - $74999\", \"income\" ] = \"62500 - 74999\"\n",
    "data.loc[ data[\"income\"] == \"$75000 - $87499\", \"income\" ] = \"75000 - 87499\"\n",
    "data.loc[ data[\"income\"] == \"$87500 - $99999\", \"income\" ] = \"87500 - 99999\"\n",
    "data.loc[ data[\"income\"] == \"$100000 or More\", \"income\" ] = \"100000 - 999999\"\n",
    "data['income'] = pd.Categorical(\n",
    "    data['income'], \n",
    "    categories=['0 - 12500', '12500 - 24999', '25000 - 37499', '37500 - 49999', '50000 - 62499', '62500 - 74999', '75000 - 87499', '87500 - 99999', '100000 - 999999'], \n",
    "    ordered=True)\n",
    "\n",
    "## make a histogram plot with comparing counts of drivers who took coupons, the type of coupon and time day\n",
    "##\n",
    "ax = sns.displot(data=data.query(\"TookCoupon == 1\"), x='time', hue='coupon', multiple='dodge', height=5, aspect=2.5 )\n",
    "plt.xticks(rotation=90)\n",
    "ax.set(title='TookCoupon = 1')"
   ]
  },
  {
   "cell_type": "markdown",
   "metadata": {},
   "source": [
    "Drivers accepted coffee house coupons in the morning 10AM and also in the afternoon 2PM. \n",
    "Drivers also accepted restaurant coupons for < $20 at 2PM and 6PM\n",
    "Drivers accepted mostly carry out for 7AM and 10PM early and late times."
   ]
  },
  {
   "cell_type": "code",
   "execution_count": 280,
   "metadata": {},
   "outputs": [
    {
     "data": {
      "text/plain": [
       "([0, 1, 2, 3, 4],\n",
       " [Text(0, 0, 'Coffee House'),\n",
       "  Text(1, 0, 'Carry out'),\n",
       "  Text(2, 0, 'Bar'),\n",
       "  Text(3, 0, 'Restaurant <20'),\n",
       "  Text(4, 0, 'Restaurant 20-50')])"
      ]
     },
     "execution_count": 280,
     "metadata": {},
     "output_type": "execute_result"
    },
    {
     "data": {
      "image/png": "[encoded data removed]",
      "text/plain": [
       "<Figure size 967.875x360 with 1 Axes>"
      ]
     },
     "metadata": {
      "needs_background": "light"
     },
     "output_type": "display_data"
    }
   ],
   "source": [
    "ax = sns.displot(data=data, x='coupon', hue='TookCoupon', multiple='dodge', height=5, aspect=2.5 )\n",
    "plt.xticks(rotation=90)"
   ]
  },
  {
   "cell_type": "markdown",
   "metadata": {},
   "source": [
    "More number of drivers accepted coupons were the carry out and restaurant coupons for < $20 while the acceptance rates were similar to rejected rates for other coupons."
   ]
  },
  {
   "cell_type": "code",
   "execution_count": 281,
   "metadata": {},
   "outputs": [
    {
     "data": {
      "text/plain": [
       "([0, 1, 2, 3, 4, 5, 6, 7, 8],\n",
       " [Text(0, 0, '0 - 12500'),\n",
       "  Text(1, 0, '12500 - 24999'),\n",
       "  Text(2, 0, '25000 - 37499'),\n",
       "  Text(3, 0, '37500 - 49999'),\n",
       "  Text(4, 0, '50000 - 62499'),\n",
       "  Text(5, 0, '62500 - 74999'),\n",
       "  Text(6, 0, '75000 - 87499'),\n",
       "  Text(7, 0, '87500 - 99999'),\n",
       "  Text(8, 0, '100000 - 999999')])"
      ]
     },
     "execution_count": 281,
     "metadata": {},
     "output_type": "execute_result"
    },
    {
     "data": {
      "image/png": "[encoded data removed]",
      "text/plain": [
       "<Figure size 967.875x360 with 1 Axes>"
      ]
     },
     "metadata": {
      "needs_background": "light"
     },
     "output_type": "display_data"
    }
   ],
   "source": [
    "ax = sns.displot( data, x=\"income\", hue=\"TookCoupon\", multiple=\"dodge\", height=5, aspect=2.5 )\n",
    "plt.xticks(rotation=90)"
   ]
  },
  {
   "cell_type": "markdown",
   "metadata": {},
   "source": [
    "Interesting comparison between income and coupon acceptance, low to middle income earners more likely to accept\n",
    "coupons"
   ]
  },
  {
   "cell_type": "code",
   "execution_count": 282,
   "metadata": {},
   "outputs": [
    {
     "data": {
      "text/plain": [
       "([0, 1, 2, 3, 4, 5, 6, 7],\n",
       " [Text(0, 0, '0 - 20'),\n",
       "  Text(1, 0, '21 - 25'),\n",
       "  Text(2, 0, '26 - 30'),\n",
       "  Text(3, 0, '31 - 35'),\n",
       "  Text(4, 0, '36 - 40'),\n",
       "  Text(5, 0, '41 - 45'),\n",
       "  Text(6, 0, '46 - 49'),\n",
       "  Text(7, 0, '50 - 99')])"
      ]
     },
     "execution_count": 282,
     "metadata": {},
     "output_type": "execute_result"
    },
    {
     "data": {
      "image/png": "[encoded data removed]",
      "text/plain": [
       "<Figure size 787.875x360 with 1 Axes>"
      ]
     },
     "metadata": {
      "needs_background": "light"
     },
     "output_type": "display_data"
    }
   ],
   "source": [
    "ax = sns.displot(data, x=\"age\", hue=\"TookCoupon\", multiple=\"dodge\", height=5, aspect=2 )\n",
    "plt.xticks(rotation=90)"
   ]
  },
  {
   "cell_type": "markdown",
   "metadata": {},
   "source": [
    "Interesting comparison between age and coupon acceptance, younger adults more likely to accept coupon"
   ]
  },
  {
   "cell_type": "code",
   "execution_count": null,
   "metadata": {},
   "outputs": [],
   "source": []
  },
  {
   "cell_type": "code",
   "execution_count": null,
   "metadata": {},
   "outputs": [],
   "source": []
  },
  {
   "cell_type": "raw",
   "metadata": {},
   "source": [
    "# P(A|B) = P(B|A) * P(A) / P(B) = accepted Bar coupon given went to the bar more than 3 times a month\n",
    "# P(A) = accepted Bar coupon\n",
    "# P(B) = went to bar more than 3 times a month\n",
    "# P(B|A) = went to bar more than 3 times a month and accepted coupon\n",
    "# P(A|B) = accepted coupon and went to bar more than 3 times a month "
   ]
  },
  {
   "cell_type": "code",
   "execution_count": 4,
   "metadata": {},
   "outputs": [],
   "source": [
    "# P(A) = accepted Bar coupon\n",
    "# df_Bar = data.query(\"coupon == 'Bar'\")[['TookCoupon']]\n",
    "# print( df_Bar.value_counts(), len(df_Bar) )\n",
    "# print( df_Bar.value_counts() / len(df_Bar) )"
   ]
  },
  {
   "cell_type": "code",
   "execution_count": 3,
   "metadata": {},
   "outputs": [],
   "source": [
    "# P(B) = went to bar more than 3 times a month\n",
    "# df_tmp = data.loc[ data['Bar'].gt('1~3') ]\n",
    "# print(df_tmp['TookCoupon'].value_counts(), len(df_tmp))\n",
    "# print(df_tmp['TookCoupon'].value_counts() / len(df_tmp))"
   ]
  },
  {
   "cell_type": "code",
   "execution_count": 2,
   "metadata": {},
   "outputs": [],
   "source": [
    "# P(B|A) = went to bar more than 3 times a month and accepted coupon\n",
    "# df_Bar = data.query(\"coupon == 'Bar'\")[['TookCoupon', 'Bar']]\n",
    "# df_tmp = df_Bar.loc[ df_Bar['Bar'].gt('1~3') ]\n",
    "# print(df_tmp['TookCoupon'].value_counts(), len(df_tmp))\n",
    "# print(df_tmp['TookCoupon'].value_counts() / len(df_tmp))"
   ]
  },
  {
   "cell_type": "code",
   "execution_count": 1,
   "metadata": {},
   "outputs": [],
   "source": [
    "# P(A|B) = P(B|A) * P(A) / P(B) = accepted Bar coupon given went to the bar more than 3 times a month\n",
    "# ( 0.768844 *  0.410015 ) / 0.622456 = 0.5064415358836609"
   ]
  }
 ],
 "metadata": {
  "kernelspec": {
   "display_name": "Python 3 (ipykernel)",
   "language": "python",
   "name": "python3"
  },
  "language_info": {
   "codemirror_mode": {
    "name": "ipython",
    "version": 3
   },
   "file_extension": ".py",
   "mimetype": "text/x-python",
   "name": "python",
   "nbconvert_exporter": "python",
   "pygments_lexer": "ipython3",
   "version": "3.9.7"
  },
  "widgets": {
   "application/vnd.jupyter.widget-state+json": {
    "state": {},
    "version_major": 2,
    "version_minor": 0
   }
  }
 },
 "nbformat": 4,
 "nbformat_minor": 4
}
